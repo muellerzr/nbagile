{
 "cells": [
  {
   "cell_type": "code",
   "execution_count": 1,
   "metadata": {},
   "outputs": [],
   "source": [
    "# default_exp docstring"
   ]
  },
  {
   "cell_type": "markdown",
   "metadata": {},
   "source": [
    "# Exporting Code and Docstrings\n",
    "\n",
    "> Converts `docment` docstrings to Numpy styled"
   ]
  },
  {
   "cell_type": "code",
   "execution_count": 2,
   "metadata": {},
   "outputs": [],
   "source": [
    "#hide\n",
    "from nbverbose.showdoc import *\n",
    "from fastcore.test import *"
   ]
  },
  {
   "cell_type": "markdown",
   "metadata": {},
   "source": [
    "The goal of this module is to take code that looks like the following:"
   ]
  },
  {
   "cell_type": "code",
   "execution_count": 3,
   "metadata": {},
   "outputs": [],
   "source": [
    "def addition(\n",
    "    a:int, # The first number to add\n",
    "    b:int=2, # The second number to add\n",
    ") -> int: # The sum of a and b\n",
    "    \"Adds two numbers together\"\n",
    "    return a+b"
   ]
  },
  {
   "cell_type": "markdown",
   "metadata": {},
   "source": [
    "And convert it to be the following:"
   ]
  },
  {
   "cell_type": "code",
   "execution_count": 4,
   "metadata": {},
   "outputs": [],
   "source": [
    "def addition(a,b) -> int:\n",
    "    \"\"\"Adds two numbers together\n",
    "    \n",
    "    Parameters\n",
    "    ---------\n",
    "    a : int\n",
    "        The first number to add\n",
    "    b : int\n",
    "        The second number to add\n",
    "        \n",
    "    Returns\n",
    "    -------\n",
    "    int\n",
    "        The sum of a and b\n",
    "    \"\"\"\n",
    "    return a + b"
   ]
  },
  {
   "cell_type": "markdown",
   "metadata": {},
   "source": [
    "## Documentation Strings"
   ]
  },
  {
   "cell_type": "code",
   "execution_count": 5,
   "metadata": {},
   "outputs": [],
   "source": [
    "#export\n",
    "from __future__ import annotations\n",
    "import inspect, ast, astunparse\n",
    "import fastcore.docments as dments\n",
    "from collections import OrderedDict\n",
    "\n",
    "from fastcore.basics import risinstance\n",
    "from fastcore.dispatch import retain_type\n",
    "from fastcore.xtras import is_listy\n",
    "import re"
   ]
  },
  {
   "cell_type": "markdown",
   "metadata": {},
   "source": [
    "Below we have an example string representation of the above docments style:"
   ]
  },
  {
   "cell_type": "code",
   "execution_count": 6,
   "metadata": {},
   "outputs": [],
   "source": [
    "source = '''def addition(\n",
    "    a:(int, float), # The first number to add\n",
    "    # The second number to add\n",
    "    b:int = 2,\n",
    ") -> (int,float): # The sum of a and b\n",
    "    \"Adds two numbers together\"\n",
    "    return a+b'''"
   ]
  },
  {
   "cell_type": "code",
   "execution_count": 7,
   "metadata": {},
   "outputs": [],
   "source": [
    "#export\n",
    "def get_annotations(\n",
    "    source:str # Source code of function or class\n",
    "):\n",
    "    \"Extracts the type annotations from source code\"\n",
    "    parse = ast.parse(source)\n",
    "    arg_annos = []\n",
    "    for i,anno in enumerate(parse.body[0].args.args):\n",
    "        if anno.annotation is not None:\n",
    "            arg_annos.append(astunparse.unparse(anno.annotation).strip('\\n'))\n",
    "        else:\n",
    "            arg_annos.append(anno.annotation)\n",
    "        parse.body[0].args.args[i].annotation = None\n",
    "    if parse.body[0].returns is not None:\n",
    "        ret_anno = astunparse.unparse(parse.body[0].returns).strip('\\n')\n",
    "    else:\n",
    "        ret_anno = None\n",
    "    return arg_annos, ret_anno"
   ]
  },
  {
   "cell_type": "code",
   "execution_count": 54,
   "metadata": {},
   "outputs": [
    {
     "data": {
      "text/markdown": [
       "<h4 id=\"get_annotations\" class=\"doc_header\"><code>get_annotations</code><a href=\"__main__.py#L2\" class=\"source_link\" style=\"float:right\">[source]</a></h4>\n",
       "\n",
       "> <code>get_annotations</code>(**`source`**:`str`)\n",
       "\n",
       "Extracts the type annotations from source code\n",
       "\n",
       "**Parameters:**\n",
       "\n",
       "\n",
       " - **`source`** : *`str`*\t<p>Source code of function or class</p>\n",
       "\n"
      ],
      "text/plain": [
       "<IPython.core.display.Markdown object>"
      ]
     },
     "metadata": {},
     "output_type": "display_data"
    }
   ],
   "source": [
    "show_doc(get_annotations)"
   ]
  },
  {
   "cell_type": "code",
   "execution_count": null,
   "metadata": {},
   "outputs": [],
   "source": [
    "test_eq(get_annotations(source), (['(int, float)', 'int'], '(int, float)'))"
   ]
  },
  {
   "cell_type": "code",
   "execution_count": null,
   "metadata": {},
   "outputs": [],
   "source": [
    "#exporti\n",
    "_nl = '\\n'\n",
    "# We need a way to not have ast delete our newlines when compiled in a string"
   ]
  },
  {
   "cell_type": "code",
   "execution_count": null,
   "metadata": {},
   "outputs": [],
   "source": [
    "#export\n",
    "def _get_leading(o):\n",
    "    return len(o) - len(o.lstrip(o[0])), o[0]"
   ]
  },
  {
   "cell_type": "code",
   "execution_count": null,
   "metadata": {},
   "outputs": [],
   "source": [
    "test_eq(_get_leading('  Hello my name is Zach'), (2, ' '))"
   ]
  },
  {
   "cell_type": "code",
   "execution_count": null,
   "metadata": {},
   "outputs": [],
   "source": [
    "#export\n",
    "def apply(\n",
    "    func:callable, # A callable function\n",
    "    x:any, # Something to apply `func` on \n",
    "    *args, # Arguments for func\n",
    "    **kwargs # Kwargs for func\n",
    "):\n",
    "    \"Apply `func` recursively to `x`, passing on args. Originally from fastai.torch_core\"\n",
    "    if is_listy(x): return type(x)([apply(func, o, *args, **kwargs) for o in x])\n",
    "    if isinstance(x,dict):  return {k: apply(func, v, *args, **kwargs) for k,v in x.items()}\n",
    "    res = func(x, *args, **kwargs)\n",
    "    return res if x is None else retain_type(res, x)"
   ]
  },
  {
   "cell_type": "code",
   "execution_count": null,
   "metadata": {},
   "outputs": [
    {
     "data": {
      "text/markdown": [
       "<h4 id=\"apply\" class=\"doc_header\"><code>apply</code><a href=\"__main__.py#L2\" class=\"source_link\" style=\"float:right\">[source]</a></h4>\n",
       "\n",
       "> <code>apply</code>(**`func`**:`callable`, **`x`**:`any`, **\\*`args`**, **\\*\\*`kwargs`**)\n",
       "\n",
       "Apply `func` recursively to `x`, passing on args. Originally from fastai.torch_core\n",
       "\n",
       "**Parameters:**\n",
       "\n",
       "\n",
       " - **`func`** : *`callable`*\t<p>A callable function</p>\n",
       "\n",
       "\n",
       " - **`x`** : *`any`*\t<p>Something to apply `func` on</p>\n",
       "\n",
       "\n",
       " - **`args`** : *`<class 'inspect._empty'>`*\n",
       "\n",
       " - **`kwargs`** : *`<class 'inspect._empty'>`*\n"
      ],
      "text/plain": [
       "<IPython.core.display.Markdown object>"
      ]
     },
     "metadata": {},
     "output_type": "display_data"
    }
   ],
   "source": [
    "show_doc(apply)"
   ]
  },
  {
   "cell_type": "code",
   "execution_count": null,
   "metadata": {},
   "outputs": [],
   "source": [
    "#export\n",
    "def reformat_function(\n",
    "    source:str, # Source code\n",
    "):\n",
    "    \"Takes messy source code and refactors it into a readable PEP-8 standard style\"\n",
    "    # Read in docments, parse source code, generate annotations\n",
    "    docs = dments.docments(source)\n",
    "    parsed_source = ast.parse(source)\n",
    "    annos = get_annotations(source)\n",
    "\n",
    "    parsed_source.body[0].returns = None\n",
    "    body = parsed_source.body[0].body\n",
    "    unparsed_source = astunparse.unparse(parsed_source).lstrip(_nl).split(_nl)\n",
    "    has_decorator = len(parsed_source.body[0].decorator_list) > 0\n",
    "\n",
    "    # Extract function definition\n",
    "    function_definition = '\\n'.join(unparsed_source[:2]) if has_decorator else unparsed_source[0]\n",
    "    function_definition = function_definition.replace(': ', ':')\n",
    "\n",
    "    # Check if we have a docstring and extract function innards\n",
    "    def _extract_innards(is_str:bool):\n",
    "        i = 2 if is_str else 1\n",
    "        return '\\n'.join(unparsed_source[i+1:]) if has_decorator else '\\n'.join(unparsed_source[i:])\n",
    "\n",
    "    function_innards = _extract_innards(isinstance(body[0].value, ast.Str))\n",
    "\n",
    "    def _get_whitespace(): return whitespace_char*num_whitespace\n",
    "\n",
    "    if unparsed_source[2] != '':\n",
    "        num_whitespace, whitespace_char = _get_leading(unparsed_source[2])\n",
    "    else:\n",
    "        if len(unparsed_source) < 4:\n",
    "            num_whitespace, whitespace_char = _get_leading(unparsed_source[1])\n",
    "        else:\n",
    "            num_whitespace, whitespace_char = _get_leading(unparsed_source[3])\n",
    "\n",
    "    docstring = f'{_nl}{_get_whitespace()}\"\"\"'\n",
    "\n",
    "    if isinstance(body[0].value, ast.Str):\n",
    "        _quotes = (\"'\", '\"')\n",
    "        orig_docstring = astunparse.unparse(body[0]).lstrip(whitespace_char).replace(_quotes[0],'').replace(_quotes[1],'')\n",
    "        orig_docstring = orig_docstring.split('\\\\n')\n",
    "        def _inner(line, whitespace_char):\n",
    "            diff = len(line) - len(line.lstrip())\n",
    "            whitespace = whitespace_char * diff if diff > 0 else _get_whitespace()\n",
    "            return f'{_nl}{whitespace}{line}'\n",
    "\n",
    "        o = apply(_inner, orig_docstring, whitespace_char=whitespace_char)\n",
    "        o[0] = orig_docstring[0].lstrip()\n",
    "        docstring += '\\n'.join(o)\n",
    "\n",
    "    param_string = f'{_nl}{_get_whitespace()}Parameters{_nl}{_get_whitespace()}----------{_nl}'\n",
    "    if len(docs.keys()) >= 1:\n",
    "        param_string = f'{_nl}{_get_whitespace()}Parameters{_nl}{_get_whitespace()}----------{_nl}'\n",
    "        for i, param in enumerate(docs.keys()):\n",
    "            if param != \"return\" and param != \"self\" and param != \"cls\":\n",
    "                param_string += fr'{_get_whitespace()}{param}'\n",
    "                if annos[0][i] is not None:\n",
    "                    param_string += f' : {annos[0][i]}'\n",
    "                else:\n",
    "                    param_string += f' : any'\n",
    "                param_string += '\\n'\n",
    "                if docs[param] is not None:\n",
    "                    param_string += f'{whitespace_char * (num_whitespace+2)}{docs[param]}{_nl}'\n",
    "    if param_string != f'{_nl}{_get_whitespace()}Parameters{_nl}{_get_whitespace()}----------{_nl}':\n",
    "        docstring += param_string\n",
    "\n",
    "    if (annos[-1] != inspect._empty) and ('return' in docs.keys()):\n",
    "        docstring += f'{_nl}{_get_whitespace()}Returns{_nl}'\n",
    "        docstring += f'{_get_whitespace()}-------{_nl}'\n",
    "        docstring += f'{_get_whitespace()}{annos[1]}{_nl}'\n",
    "        docstring += f'{whitespace_char * (num_whitespace+2)}{docs[\"return\"]}{_nl}'\n",
    "    docstring += f'{_get_whitespace()}\"\"\"{_nl}'\n",
    "    return fr'{function_definition}{docstring}{function_innards}'"
   ]
  },
  {
   "cell_type": "code",
   "execution_count": null,
   "metadata": {},
   "outputs": [
    {
     "data": {
      "text/markdown": [
       "<h4 id=\"reformat_function\" class=\"doc_header\"><code>reformat_function</code><a href=\"__main__.py#L2\" class=\"source_link\" style=\"float:right\">[source]</a></h4>\n",
       "\n",
       "> <code>reformat_function</code>(**`source`**:`str`)\n",
       "\n",
       "Takes messy source code and refactors it into a readable PEP-8 standard style\n",
       "\n",
       "**Parameters:**\n",
       "\n",
       "\n",
       " - **`source`** : *`str`*\t<p>Source code</p>\n",
       "\n"
      ],
      "text/plain": [
       "<IPython.core.display.Markdown object>"
      ]
     },
     "metadata": {},
     "output_type": "display_data"
    }
   ],
   "source": [
    "show_doc(reformat_function)"
   ]
  },
  {
   "cell_type": "code",
   "execution_count": null,
   "metadata": {},
   "outputs": [],
   "source": [
    "source = \"\"\"@delegates()\n",
    "def addition(\n",
    "    a:(int, float), # The first number to add\n",
    "    # The second number to add\n",
    "    b:int = 2,\n",
    ") -> (int,float): # The sum of a and b\n",
    "    \"Adds two numbers together\"\n",
    "    def _inner(): return a+b\n",
    "    return _inner()\"\"\""
   ]
  },
  {
   "cell_type": "code",
   "execution_count": null,
   "metadata": {},
   "outputs": [
    {
     "name": "stdout",
     "output_type": "stream",
     "text": [
      "@delegates()\n",
      "def addition(\n",
      "    a:(int, float), # The first number to add\n",
      "    # The second number to add\n",
      "    b:int = 2,\n",
      ") -> (int,float): # The sum of a and b\n",
      "    \"Adds two numbers together\"\n",
      "    def _inner(): return a+b\n",
      "    return _inner()\n"
     ]
    }
   ],
   "source": [
    "print(source)"
   ]
  },
  {
   "cell_type": "code",
   "execution_count": null,
   "metadata": {},
   "outputs": [
    {
     "name": "stdout",
     "output_type": "stream",
     "text": [
      "@delegates()\n",
      "def addition(a:(int, float), b:int=2):\n",
      "    \"\"\"Adds two numbers together\n",
      "\n",
      "    Parameters\n",
      "    ----------\n",
      "    a : (int, float)\n",
      "      The first number to add\n",
      "    b : int\n",
      "      The second number to add\n",
      "\n",
      "    Returns\n",
      "    -------\n",
      "    (int, float)\n",
      "      The sum of a and b\n",
      "    \"\"\"\n",
      "\n",
      "    def _inner():\n",
      "        return (a + b)\n",
      "    return _inner()\n",
      "\n"
     ]
    }
   ],
   "source": [
    "print(reformat_function(source))"
   ]
  },
  {
   "cell_type": "code",
   "execution_count": null,
   "metadata": {},
   "outputs": [],
   "source": [
    "# export\n",
    "def reformat_class(\n",
    "    source:str, # Source code of a full class\n",
    "    recursion_level:int = 1, # Depth of recursion\n",
    "):\n",
    "    \"Takes messy class code and refactors it into a readable PEP-8 standard style\"\n",
    "    whitespace_char = None\n",
    "    def _format_spacing(code, num_leading):\n",
    "        code = [c for c in code if len(c) > 0]\n",
    "        def _inner(c, num_leading):\n",
    "            curr_leading = len(c) - len(c.lstrip())\n",
    "            return f'{c[0] * (curr_leading - num_leading)}{c.lstrip()}'\n",
    "        return apply(_inner, code, num_leading=num_leading)\n",
    "    # Parse source code and get body\n",
    "    parsed_source = ast.parse(source)\n",
    "    body = parsed_source.body[0].body\n",
    "    new_source = ''\n",
    "\n",
    "    unparsed_source = astunparse.unparse(parsed_source).lstrip('\\n').split('\\n')\n",
    "\n",
    "    # Add function definition\n",
    "    new_source += unparsed_source[0]\n",
    "\n",
    "    def _get_whitespace(): return whitespace_char * num_whitespace\n",
    "\n",
    "    num_whitespace, whitespace_char = _get_leading(unparsed_source[2])\n",
    "    docstring = f'{_nl}{_get_whitespace()}\"\"\"'\n",
    "    docstring_len, diff = 0,2\n",
    "\n",
    "    new_nodes = [unparsed_source[0]]\n",
    "\n",
    "    for i, node in enumerate(body):\n",
    "        if risinstance((ast.ClassDef, ast.FunctionDef), node):\n",
    "            beginning_lineno = node.lineno\n",
    "            split_code = source.split('\\n')\n",
    "            if i < (len(body) - 1):\n",
    "                ending_lineno = body[i+1].lineno\n",
    "                code = split_code[beginning_lineno-1:ending_lineno-1]\n",
    "                num_leading = len(code[0]) - len(code[0].lstrip())\n",
    "                if isinstance(node, ast.ClassDef):\n",
    "                    for i,c in enumerate(code): code[i] = code[i][num_leading:]\n",
    "                    new_nodes.append(reformat_class('\\n'.join(code), recursion_level+1))\n",
    "                else:\n",
    "                    if whitespace_char is None:\n",
    "                        whitespace_char = code[i][0]\n",
    "                    code = _format_spacing(code, num_leading)\n",
    "                    new_nodes.append(reformat_function('\\n'.join(code)))\n",
    "            else:\n",
    "                code = split_code[beginning_lineno-1:]\n",
    "                if whitespace_char is None:\n",
    "                    whitespace_char = code[i][0]\n",
    "                num_leading = len(code[0]) - len(code[0].lstrip())\n",
    "                code = _format_spacing(code, num_leading)\n",
    "                new_nodes.append(reformat_function('\\n'.join(code)))\n",
    "        else:\n",
    "            if isinstance(body[0].value, ast.Str) and i == 0:\n",
    "                _quotes = (\"'\", '\"')\n",
    "                orig_docstring = astunparse.unparse(body[0]).lstrip(whitespace_char).replace(_quotes[0],'').replace(_quotes[1],'')\n",
    "                orig_docstring = orig_docstring.split('\\\\n')\n",
    "                def _inner(line, whitespace_char):\n",
    "                    diff = len(line) - len(line.lstrip())\n",
    "                    whitespace = whitespace_char * diff if diff > 0 else _get_whitespace()\n",
    "                    return f'{_nl}{whitespace}{line}'\n",
    "\n",
    "                o = apply(_inner, orig_docstring, whitespace_char=whitespace_char)\n",
    "                o[0] = orig_docstring[0].lstrip()\n",
    "                docstring +=  '\\n'.join(o)\n",
    "                docstring += f'{_nl}{_get_whitespace()}\"\"\"'\n",
    "                full_string = docstring.split('\\n')\n",
    "                new_string = ''\n",
    "\n",
    "                if len(full_string) == 4:\n",
    "                    new_string = apply(lambda x: x.lstrip(), full_string)\n",
    "                    new_string = ''.join(new_string)\n",
    "                else:\n",
    "                    new_string = '\\n'.join(full_string)\n",
    "                docstring_len = len(new_string.split('\\n'))\n",
    "                new_nodes.append(new_string)\n",
    "            else:\n",
    "                new_nodes.append(f'{astunparse.unparse(node).strip()}')\n",
    "    formatted_source = []\n",
    "    num_chars = 4\n",
    "    if recursion_level > 1:\n",
    "        num_chars += (2*(recursion_level-1)) - 2\n",
    "\n",
    "    formatted_source.append(new_nodes[0])\n",
    "    line = new_nodes[1]\n",
    "    if not len(line.lstrip()) < len(line):\n",
    "        line = line.split('\\n')\n",
    "        line = apply(lambda x: f'{whitespace_char * num_chars}{x}', line)\n",
    "        line = '\\n'.join(line)\n",
    "    formatted_source.append(line.lstrip('\\n'))\n",
    "\n",
    "    for i,line in enumerate(new_nodes[2:]):\n",
    "        l = line.split('\\n')\n",
    "        for i,o in enumerate(l):\n",
    "            l[i] = f'{whitespace_char * num_chars}{o}'\n",
    "        line = '\\n'.join(l)\n",
    "        formatted_source.append(line)\n",
    "    return '\\n'.join(formatted_source)"
   ]
  },
  {
   "cell_type": "code",
   "execution_count": null,
   "metadata": {},
   "outputs": [
    {
     "data": {
      "text/markdown": [
       "<h4 id=\"reformat_class\" class=\"doc_header\"><code>reformat_class</code><a href=\"__main__.py#L2\" class=\"source_link\" style=\"float:right\">[source]</a></h4>\n",
       "\n",
       "> <code>reformat_class</code>(**`source`**:`str`, **`recursion_level`**:`int`=*`1`*)\n",
       "\n",
       "Takes messy class code and refactors it into a readable PEP-8 standard style\n",
       "\n",
       "**Parameters:**\n",
       "\n",
       "\n",
       " - **`source`** : *`str`*\t<p>Source code of a full class</p>\n",
       "\n",
       "\n",
       " - **`recursion_level`** : *`int`*, *optional*\t<p>Depth of recursion</p>\n",
       "\n"
      ],
      "text/plain": [
       "<IPython.core.display.Markdown object>"
      ]
     },
     "metadata": {},
     "output_type": "display_data"
    }
   ],
   "source": [
    "show_doc(reformat_class)"
   ]
  },
  {
   "cell_type": "code",
   "execution_count": null,
   "metadata": {},
   "outputs": [],
   "source": [
    "source = '''class Arithmetic:\n",
    "    \"A class that can perform basic arithmetic on ops\"\n",
    "    _o = 2\n",
    "    _b = 5\n",
    "    \n",
    "    _c = 3\n",
    "    \n",
    "    class A:\n",
    "        def __init__(\n",
    "          self, \n",
    "          o:int # An integer\n",
    "        ):\n",
    "            self.o = o\n",
    "    \n",
    "    def __init__(\n",
    "        self,\n",
    "        a:int, # The first number to use\n",
    "        b:(int, float), # The second number to use\n",
    "    ):\n",
    "        self.a = a\n",
    "        self.b = b\n",
    "        \n",
    "    @delegates()\n",
    "    def add(\n",
    "        self\n",
    "    ) -> (int,float): # Sum of a and b\n",
    "        \"Adds self.a and self.b\"\n",
    "        return self.a + self.b'''"
   ]
  },
  {
   "cell_type": "code",
   "execution_count": null,
   "metadata": {},
   "outputs": [
    {
     "name": "stdout",
     "output_type": "stream",
     "text": [
      "class Arithmetic():\n",
      "    \"\"\"A class that can perform basic arithmetic on ops\"\"\"\n",
      "    _o = 2\n",
      "    _b = 5\n",
      "    _c = 3\n",
      "    class A():\n",
      "        def __init__(self, o:int):\n",
      "            \"\"\"\n",
      "            Parameters\n",
      "            ----------\n",
      "            o : int\n",
      "              An integer\n",
      "            \"\"\"\n",
      "            self.o = o\n",
      "        \n",
      "    def __init__(self, a:int, b:(int, float)):\n",
      "        \"\"\"\n",
      "        Parameters\n",
      "        ----------\n",
      "        a : int\n",
      "          The first number to use\n",
      "        b : (int, float)\n",
      "          The second number to use\n",
      "        \"\"\"\n",
      "        self.a = a\n",
      "        self.b = b\n",
      "    \n",
      "    @delegates()\n",
      "    def add(self):\n",
      "        \"\"\"Adds self.a and self.b\n",
      "    \n",
      "        Returns\n",
      "        -------\n",
      "        (int, float)\n",
      "          Sum of a and b\n",
      "        \"\"\"\n",
      "        return (self.a + self.b)\n",
      "    \n"
     ]
    }
   ],
   "source": [
    "print(reformat_class(source))"
   ]
  },
  {
   "cell_type": "code",
   "execution_count": null,
   "metadata": {},
   "outputs": [],
   "source": [
    "multiple_funcs = '''from fastai.vision.all import *\n",
    "\n",
    "import numpy as np\n",
    "\n",
    "class Arithmetic:\n",
    "    \"A class that can perform basic arithmetic on ops\"\n",
    "    _o = 2\n",
    "    _b = 5\n",
    "    \n",
    "    _c = 3\n",
    "    \n",
    "    class A:\n",
    "        def __init__(\n",
    "          self, \n",
    "          o:int # An integer\n",
    "        ):\n",
    "            self.o = o\n",
    "    \n",
    "    def __init__(\n",
    "        self,\n",
    "        a:int, # The first number to use\n",
    "        b:(int, float), # The second number to use\n",
    "    ):\n",
    "        self.a = a\n",
    "        self.b = b\n",
    "        \n",
    "    @delegates()\n",
    "    def add(\n",
    "        self\n",
    "    ) -> (int,float): # Sum of a and b\n",
    "        \"Adds self.a and self.b\"\n",
    "        return self.a + self.b\n",
    "\n",
    "def foo(\n",
    "    a:int, # First\n",
    "    b:int, # Second\n",
    ") -> (int, float): # Sum of a and b\n",
    "    \"Adds\"\n",
    "    return a+b\n",
    "    \n",
    "def baz(\n",
    "    a:int, # First\n",
    "    b:int, # Second\n",
    ") -> (int, float): # Difference of a and b\n",
    "    \"Subtracts\"\n",
    "    return a-b\n",
    "    \n",
    "myConst = 22\n",
    "\n",
    "def bar(\n",
    "    a:int, # First\n",
    "    b:int, # Second\n",
    ") -> (int, float): # Product of a and b\n",
    "    \"Multiplies\"\n",
    "    return a*b'''"
   ]
  },
  {
   "cell_type": "code",
   "execution_count": null,
   "metadata": {},
   "outputs": [],
   "source": [
    "#export\n",
    "from fastcore.script import call_parse\n",
    "from fastcore.xtras import Path"
   ]
  },
  {
   "cell_type": "markdown",
   "metadata": {},
   "source": [
    "## Cleaning and Transforming Files\n",
    "\n",
    "Given the above's usage of AST trees to rebuild your code, it automatically looks very similar to something that would come out of a code formatter, such as Black or Flake8. However, we still need to convert individual files, not just handling certain capabilities.\n",
    "\n",
    "This is what the below functionality does"
   ]
  },
  {
   "cell_type": "code",
   "execution_count": null,
   "metadata": {},
   "outputs": [],
   "source": [
    "#export\n",
    "def clean_file(\n",
    "    fname:(Path, str), # The location of a filename to clean\n",
    "    use_all:bool, # Whether to add a '__all__' to the file\n",
    "):\n",
    "    \"Cleans an individual file from docment-style annotation to numpy-style\"\n",
    "    if not isinstance(fname, Path): fname = Path(fname)\n",
    "    if not fname.exists(): raise ValueError(f\"Warning! {fname} does not exist! Ensure you passed in a valid file location\")\n",
    "    contents = fname.read_text()\n",
    "    new_funcs = []\n",
    "    p = ast.parse(contents)\n",
    "\n",
    "    start_locs, end_locs, types = [], [], []\n",
    "    for i, item in enumerate(p.body):\n",
    "        start_locs.append(item.lineno)\n",
    "        if i < len(p.body) - 1:\n",
    "            end_locs.append(p.body[i+1].lineno-1) \n",
    "        elif i == len(p.body) - 1:\n",
    "            end_locs.append(-1)\n",
    "        types.append(type(item))\n",
    "        \n",
    "    split_line = contents.split('\\n')\n",
    "    for start, end in zip(start_locs, end_locs):\n",
    "        if start == end:\n",
    "            definition = '\\n'.join([split_line[start-1]])\n",
    "        elif end == -1:\n",
    "            definition = '\\n'.join(split_line[start-1:])\n",
    "        else:\n",
    "            definition = '\\n'.join(split_line[start-1:end-1])\n",
    "        new_funcs.append(definition)\n",
    "    \n",
    "    new_file_contents = ''\n",
    "    \n",
    "    for i,(func, t) in enumerate(zip(new_funcs, types)):\n",
    "        if t == ast.Import or t == ast.ImportFrom:\n",
    "            if i < len(new_funcs) - 1:\n",
    "                new_file_contents += func\n",
    "        elif t == ast.ClassDef:\n",
    "            try:\n",
    "                new_file_contents += reformat_class(func)\n",
    "            except:\n",
    "                new_file_contents += func\n",
    "        elif t == ast.FunctionDef:\n",
    "            try:\n",
    "                o = reformat_function(func)\n",
    "                if o.startswith('@'):\n",
    "                    new_file_contents += f'{_nl}{o}'\n",
    "                else:\n",
    "                    new_file_contents += o\n",
    "            except:\n",
    "                new_file_contents += func\n",
    "        else:\n",
    "            if not func.endswith('\\n'): new_file_contents += f'{func}{_nl}'\n",
    "            else:\n",
    "                new_file_contents += func\n",
    "        new_file_contents += '\\n'\n",
    "        \n",
    "    if not use_all:\n",
    "        new_file_contents = re.sub(r'^__all__\\s*=\\s*\\[([^\\]]*)\\]', '', new_file_contents, flags=re.MULTILINE)\n",
    "    new_file_contents = new_file_contents.replace('\\n# Cell\\n', '')\n",
    "    fname.write_text(new_file_contents)"
   ]
  },
  {
   "cell_type": "code",
   "execution_count": null,
   "metadata": {},
   "outputs": [
    {
     "data": {
      "text/markdown": [
       "<h4 id=\"clean_file\" class=\"doc_header\"><code>clean_file</code><a href=\"__main__.py#L2\" class=\"source_link\" style=\"float:right\">[source]</a></h4>\n",
       "\n",
       "> <code>clean_file</code>(**`fname`**:`(Path, str)`)\n",
       "\n",
       "Cleans an individual file from docment-style annotation to numpy-style\n",
       "\n",
       "**Parameters:**\n",
       "\n",
       "\n",
       " - **`fname`** : *`(Path, str)`*\t<p>The location of a filename to clean</p>\n",
       "\n"
      ],
      "text/plain": [
       "<IPython.core.display.Markdown object>"
      ]
     },
     "metadata": {},
     "output_type": "display_data"
    }
   ],
   "source": [
    "show_doc(clean_file)"
   ]
  },
  {
   "cell_type": "code",
   "execution_count": null,
   "metadata": {},
   "outputs": [],
   "source": [
    "#export\n",
    "import nbdev.export as exp\n",
    "import nbdev.export2html as exp2html\n",
    "from nbdev.imports import read_config_file\n",
    "\n",
    "@call_parse\n",
    "def nbagile_build_lib():\n",
    "    \"Export notebooks matching `fname` to python modules\"\n",
    "    exp2html.write_tmpls()\n",
    "    exp.notebook2script()\n",
    "    files = exp.nbglob(extension='.py', config_key='lib_path')\n",
    "    cfg_path = Path.cwd()\n",
    "    while cfg_path != cfg_path.parent and not (cfg_path/'settings.ini').exists(): cfg_path = cfg_path.parent\n",
    "    cfg = read_config_file(cfg_path/'settings.ini')\n",
    "    for file in files: clean_file(file, use_all=cfg['use_all'])"
   ]
  },
  {
   "cell_type": "code",
   "execution_count": null,
   "metadata": {},
   "outputs": [],
   "source": [
    "#export\n",
    "from nbverbose.cli import nbdev_build_docs\n",
    "@call_parse\n",
    "def nbagile_build_docs():\n",
    "    \"Builds documentation from notebooks\"\n",
    "    exp2html.write_tmpls()\n",
    "    exp.notebook2script()\n",
    "    nbdev_build_docs()\n",
    "    nbagile_build_lib()"
   ]
  },
  {
   "cell_type": "code",
   "execution_count": null,
   "metadata": {},
   "outputs": [],
   "source": [
    "#export\n",
    "import subprocess\n",
    "from distutils.dir_util import copy_tree\n",
    "\n",
    "import tempfile\n",
    "import shutil\n",
    "\n",
    "@call_parse\n",
    "def nbagile_diff_nbs():\n",
    "    \"Prints the diff between an export of the library in notebooks and the actual modules\"\n",
    "    cfg = get_config()\n",
    "    lib_folder = cfg.path(\"lib_path\")\n",
    "    with tempfile.TemporaryDirectory() as d1, tempfile.TemporaryDirectory() as d2:\n",
    "        copy_tree(cfg.path(\"lib_path\"), d1)\n",
    "        exp.notebook2script(silent=True)\n",
    "        files = exp.nbglob(extension='.py', config_key='lib_path')\n",
    "        for file in files: clean_file(file)\n",
    "        copy_tree(cfg.path(\"lib_path\"), d2)\n",
    "        shutil.rmtree(cfg.path(\"lib_path\"))\n",
    "        shutil.copytree(d1, str(cfg.path(\"lib_path\")))\n",
    "        for d in [d1, d2]:\n",
    "            if (Path(d)/'__pycache__').exists(): shutil.rmtree(Path(d)/'__pycache__')\n",
    "        res = subprocess.run(['diff', '-ru', d1, d2], stdout=subprocess.PIPE)\n",
    "        print(res.stdout.decode('utf-8'))"
   ]
  },
  {
   "cell_type": "code",
   "execution_count": null,
   "metadata": {},
   "outputs": [],
   "source": []
  }
 ],
 "metadata": {
  "kernelspec": {
   "display_name": "Python 3 (ipykernel)",
   "language": "python",
   "name": "python3"
  },
  "language_info": {
   "codemirror_mode": {
    "name": "ipython",
    "version": 3
   },
   "file_extension": ".py",
   "mimetype": "text/x-python",
   "name": "python",
   "nbconvert_exporter": "python",
   "pygments_lexer": "ipython3",
   "version": "3.8.10"
  },
  "toc": {
   "base_numbering": 1,
   "nav_menu": {},
   "number_sections": false,
   "sideBar": true,
   "skip_h1_title": false,
   "title_cell": "Table of Contents",
   "title_sidebar": "Contents",
   "toc_cell": false,
   "toc_position": {},
   "toc_section_display": true,
   "toc_window_display": true
  }
 },
 "nbformat": 4,
 "nbformat_minor": 2
}
